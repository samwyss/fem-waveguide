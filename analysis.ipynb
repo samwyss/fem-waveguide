{
 "cells": [
  {
   "cell_type": "markdown",
   "metadata": {},
   "source": [
    "# ECE 618 Project 2 Analysis"
   ]
  },
  {
   "cell_type": "markdown",
   "metadata": {},
   "source": [
    "## Load in modules"
   ]
  },
  {
   "cell_type": "code",
   "execution_count": 1,
   "metadata": {},
   "outputs": [],
   "source": [
    "import matplotlib.pyplot as plt\n",
    "import numpy as np\n",
    "from Mesh import Mesh\n",
    "from scipy.spatial import Delaunay"
   ]
  },
  {
   "cell_type": "markdown",
   "metadata": {},
   "source": [
    "Rectangular Analysis"
   ]
  },
  {
   "cell_type": "code",
   "execution_count": 6,
   "metadata": {},
   "outputs": [],
   "source": [
    "te_eigenvalues = np.loadtxt(\"./data/TE_eigenvalues.csv\", delimiter=\",\", encoding=\"UTF-8\")\n",
    "tm_eigenvalues = np.loadtxt(\"./data/TM_eigenvalues.csv\", delimiter=\",\", encoding=\"UTF-8\")\n",
    "a = 2\n",
    "b = 1\n",
    "mu = 1.25663706212e-6\n",
    "epsilon = 8.8541878128e-12\n",
    "\n",
    "# analytic calculations\n",
    "frequencies = np.linspace(0, 20e9, 1000)\n",
    "k0 = 2 * np.pi * frequencies * np.sqrt(mu*epsilon)\n"
   ]
  }
 ],
 "metadata": {
  "kernelspec": {
   "display_name": "Python 3",
   "language": "python",
   "name": "python3"
  },
  "language_info": {
   "codemirror_mode": {
    "name": "ipython",
    "version": 3
   },
   "file_extension": ".py",
   "mimetype": "text/x-python",
   "name": "python",
   "nbconvert_exporter": "python",
   "pygments_lexer": "ipython3",
   "version": "3.11.4"
  }
 },
 "nbformat": 4,
 "nbformat_minor": 2
}
